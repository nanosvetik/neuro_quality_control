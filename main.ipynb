{
 "cells": [
  {
   "cell_type": "code",
   "execution_count": null,
   "metadata": {},
   "outputs": [],
   "source": [
    "import os"
   ]
  },
  {
   "cell_type": "code",
   "execution_count": null,
   "metadata": {},
   "outputs": [],
   "source": [
    "from models import Worker\n",
    "worker = Worker()"
   ]
  },
  {
   "cell_type": "code",
   "execution_count": null,
   "metadata": {},
   "outputs": [],
   "source": [
    "audio_file = r\"./10.10.2024__12-20-20______12.mp3\""
   ]
  },
  {
   "cell_type": "code",
   "execution_count": null,
   "metadata": {},
   "outputs": [],
   "source": [
    "metadata_file, transcription_file, channels_processed = worker.process_audio_file(audio_file)\n",
    "tonality_report, tonality_plot = worker.analyze_wav(channels_processed)\n",
    "sentence_report = worker.analyze_text(transcription_file)\n",
    "zip_path = worker.create_report(metadata_file, transcription_file, tonality_report, sentence_report, tonality_plot)\n",
    "worker.clean_temp_files()"
   ]
  },
  {
   "cell_type": "code",
   "execution_count": null,
   "metadata": {},
   "outputs": [],
   "source": [
    "# Ссылка для скачивания\n",
    "from IPython.display import FileLink\n",
    "print(\"Отчет успешно создан. Скачайте архив с отчётом:\")\n",
    "display(FileLink(zip_path))"
   ]
  }
 ],
 "metadata": {
  "kernelspec": {
   "display_name": ".venv",
   "language": "python",
   "name": "python3"
  },
  "language_info": {
   "codemirror_mode": {
    "name": "ipython",
    "version": 3
   },
   "file_extension": ".py",
   "mimetype": "text/x-python",
   "name": "python",
   "nbconvert_exporter": "python",
   "pygments_lexer": "ipython3",
   "version": "3.11.5"
  }
 },
 "nbformat": 4,
 "nbformat_minor": 2
}
